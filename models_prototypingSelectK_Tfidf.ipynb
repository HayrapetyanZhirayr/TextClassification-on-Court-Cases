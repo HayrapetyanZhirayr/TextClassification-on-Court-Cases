{
 "cells": [
  {
   "cell_type": "code",
   "execution_count": 1,
   "metadata": {},
   "outputs": [],
   "source": [
    "import load_data\n",
    "import numpy as np\n",
    "from sklearn.feature_selection import SelectKBest, f_classif\n",
    "from sklearn.model_selection import train_test_split\n",
    "from sklearn.feature_extraction.text import TfidfVectorizer\n",
    "import pandas as pd\n",
    "import torch\n",
    "import torch_utils\n",
    "import models\n",
    "import collections\n",
    "from torch import optim\n",
    "\n",
    "%matplotlib inline\n",
    "import matplotlib.pyplot as plt\n",
    "from IPython import display"
   ]
  },
  {
   "cell_type": "markdown",
   "metadata": {},
   "source": [
    "## Loading data"
   ]
  },
  {
   "cell_type": "code",
   "execution_count": 3,
   "metadata": {
    "scrolled": false
   },
   "outputs": [
    {
     "name": "stderr",
     "output_type": "stream",
     "text": [
      "100%|█████████████████████████████████████████████████████████████████████████████████| 113/113 [01:42<00:00,  1.11it/s]\n"
     ]
    }
   ],
   "source": [
    "read_dir = 'data/cases_small_preprocessedLEMM/'\n",
    "Y = []\n",
    "X = []\n",
    "min_tokens = 200\n",
    "for i, (text, y) in enumerate(load_data.yield_preprocessed_json_from_disk(read_dir)):\n",
    "    if len(text.split()) > min_tokens:\n",
    "        Y.append(y)\n",
    "        X.append(text)\n",
    "\n",
    "        \n",
    "# shuffling data to break  storage order patterns\n",
    "idx = np.arange(len(X))\n",
    "np.random.shuffle(idx)\n",
    "X = [X[j] for j in idx]\n",
    "Y = [Y[j] for j in idx]"
   ]
  },
  {
   "cell_type": "markdown",
   "metadata": {},
   "source": [
    "Calculating the number of samples/number of words per sample ratio."
   ]
  },
  {
   "cell_type": "code",
   "execution_count": 4,
   "metadata": {},
   "outputs": [
    {
     "name": "stdout",
     "output_type": "stream",
     "text": [
      "Number_of_samples/number_of_words_per_sample :: 130206/725.0 :: 179.5944827586207\n"
     ]
    }
   ],
   "source": [
    "def get_num_words_per_sample(sample_texts):\n",
    "    num_words = [len(s.split()) for s in sample_texts]\n",
    "    return np.median(num_words)\n",
    "nwps = get_num_words_per_sample(X)\n",
    "print(f'Number_of_samples/number_of_words_per_sample :: {len(X)}/{nwps} :: {len(X)/nwps}')"
   ]
  },
  {
   "cell_type": "markdown",
   "metadata": {},
   "source": [
    "Mapping casenumbers to categories IDs."
   ]
  },
  {
   "cell_type": "code",
   "execution_count": 5,
   "metadata": {},
   "outputs": [],
   "source": [
    "cases_info = pd.read_csv('data/cases_info.csv')\n",
    "cases_d = dict(zip(cases_info['Number'], cases_info['CategoryID']))\n",
    "del cases_info"
   ]
  },
  {
   "cell_type": "markdown",
   "metadata": {},
   "source": [
    "Skipping indices that are not labeled. And creating a maping from categoryID to categoryIndex"
   ]
  },
  {
   "cell_type": "code",
   "execution_count": 6,
   "metadata": {},
   "outputs": [],
   "source": [
    "Y_id = np.array(list(map(lambda case: cases_d[case], Y)))\n",
    "\n",
    "\n",
    "skip_indices = set(np.where(Y_id == -1)[0])\n",
    "keep_mask = (Y_id != -1)\n",
    "\n",
    "id2i = dict(zip(set(Y_id[keep_mask]), range(len(set(Y_id[keep_mask])))))\n",
    "i2id = {v:k for k, v in id2i.items()}\n",
    "\n",
    "X = [x for i, x in enumerate(X) if i not in skip_indices]\n",
    "Y = [y for i, y in enumerate(Y) if i not in skip_indices]\n",
    "Y_id = [y_id for i, y_id in enumerate(Y_id) if i not in skip_indices]\n",
    "\n",
    "Y_idx = np.array(list(map(lambda y_id: id2i[y_id], Y_id)))"
   ]
  },
  {
   "cell_type": "markdown",
   "metadata": {},
   "source": [
    "Spliting indices into train and test"
   ]
  },
  {
   "cell_type": "code",
   "execution_count": 7,
   "metadata": {},
   "outputs": [],
   "source": [
    "np.random.seed(0)\n",
    "DS_SIZE = len(Y_idx)\n",
    "TEST_SIZE = .2\n",
    "indices = np.arange(DS_SIZE)\n",
    "train_indices, test_indices = train_test_split(indices, test_size=TEST_SIZE, stratify=Y_idx)"
   ]
  },
  {
   "cell_type": "code",
   "execution_count": 8,
   "metadata": {},
   "outputs": [],
   "source": [
    "X_train_list = []\n",
    "X_test_list = []\n",
    "for train_idx in train_indices:\n",
    "    X_train_list.append(X[train_idx])\n",
    "for test_idx in test_indices:\n",
    "    X_test_list.append(X[test_idx])"
   ]
  },
  {
   "cell_type": "markdown",
   "metadata": {},
   "source": [
    "Vectorizing and cho"
   ]
  },
  {
   "cell_type": "code",
   "execution_count": 9,
   "metadata": {},
   "outputs": [
    {
     "name": "stdout",
     "output_type": "stream",
     "text": [
      "K :: 16384,  power :: 14\n",
      "APPROX FIT TIME (s):: 119\n"
     ]
    }
   ],
   "source": [
    "vectorizer = TfidfVectorizer(\n",
    "#     input='filename',\n",
    "    ngram_range=(1, 2),\n",
    "#     max_df=.95, \n",
    "#     min_df=.001,\n",
    "#     tokenizer=None\n",
    "                            )\n",
    "# # max_df :: # ignoring terms that occur more then in {max_df} % documents (or categories)\n",
    "# # min_df :: # ignoring terms that occur less then in {min_df} % documents (or categories)\n",
    "# filelist = sorted(\n",
    "#     glob.glob('temp_data/train_corpusSMALL_LEMM/*'), \n",
    "#     key=lambda x: int(x.split('/')[-1].split('.')[0])\n",
    "# )\n",
    "\n",
    "# filelist[:3]\n",
    "\n",
    "approx_K = 20 * 10**3\n",
    "K = 2**(np.int(np.log2(approx_K)))\n",
    "print(f\"K :: {K},  power :: {np.int(np.log2(approx_K))}\")\n",
    "selector = SelectKBest(f_classif, k=K)\n",
    "\n",
    "\n",
    "import time\n",
    "start = time.time()\n",
    "# vectorizer.fit(X)\n",
    "S_train = vectorizer.fit_transform(X_train_list)\n",
    "# S_train = vectorizer.transform(X_train_list)\n",
    "S_test = vectorizer.transform(X_test_list)\n",
    "selector.fit(S_train, Y_idx[train_indices])\n",
    "S_train = selector.transform(S_train).astype('float32')\n",
    "S_test = selector.transform(S_test).astype('float32')\n",
    "end = time.time()\n",
    "print(f'APPROX FIT TIME (s):: {round(end - start)}')"
   ]
  },
  {
   "cell_type": "code",
   "execution_count": 10,
   "metadata": {},
   "outputs": [],
   "source": [
    "from torch.utils.data import TensorDataset, DataLoader"
   ]
  },
  {
   "cell_type": "code",
   "execution_count": 13,
   "metadata": {
    "scrolled": true
   },
   "outputs": [],
   "source": [
    "N_splits_train = 12\n",
    "N_splits_test = int(N_splits_train * TEST_SIZE)\n",
    "\n",
    "X_train, X_test = S_train, S_test\n",
    "\n",
    "Y_idx_t = torch.Tensor(Y_idx).type(torch.long)\n",
    "Y_train, Y_test = Y_idx_t[train_indices], Y_idx_t[test_indices]\n",
    "\n",
    "train_sl = torch_utils.SplitLoader(X_train, Y_train, N_splits_train, \"temp_tensors/train\")\n",
    "train_sl.split_and_save()\n",
    "test_sl = torch_utils.SplitLoader(X_test, Y_test, N_splits_test, \"temp_tensors/test\")\n",
    "test_sl.split_and_save()"
   ]
  },
  {
   "cell_type": "code",
   "execution_count": 44,
   "metadata": {
    "scrolled": true
   },
   "outputs": [
    {
     "name": "stdout",
     "output_type": "stream",
     "text": [
      "INPUT_DIM : 16384\n",
      "OUTPUT_DIM : 36\n",
      "BATCH_SIZE : 64\n",
      "cuda:0\n",
      "Number of updates per epoch:: 1628\n"
     ]
    }
   ],
   "source": [
    "INPUT_DIM = X_train.shape[-1]\n",
    "print(f'INPUT_DIM : {INPUT_DIM}')\n",
    "OUTPUT_DIM = len(np.unique(Y_idx))  # _classes\n",
    "print(f'OUTPUT_DIM : {OUTPUT_DIM}')\n",
    "\n",
    "BATCH_SIZE = 2**6\n",
    "print(f'BATCH_SIZE : {BATCH_SIZE}')\n",
    "DEVICE = torch.device(\"cuda:0\" if torch.cuda.is_available() else \"cpu\")\n",
    "print(DEVICE)\n",
    "model = models.MLP2(INPUT_DIM, OUTPUT_DIM, layer_dim1=2**11, layer_dim2=2**8)\n",
    "\n",
    "\n",
    "model.to(DEVICE)\n",
    "HISTORY = collections.defaultdict(list)\n",
    "\n",
    "N_BATCHES_train = X_train.shape[0] // BATCH_SIZE + int(X_train.shape[0] % BATCH_SIZE != 0)\n",
    "print(f\"Number of updates per epoch:: {N_BATCHES_train}\")"
   ]
  },
  {
   "cell_type": "code",
   "execution_count": 45,
   "metadata": {},
   "outputs": [],
   "source": [
    "# optimizer = optim.Adam(model.parameters(), lr=1e-3/2, weight_decay=0.0004)\n",
    "optimizer = optim.Adam(model.parameters(), lr=1e-3, \n",
    "                       weight_decay=0.0003\n",
    "                      )"
   ]
  },
  {
   "cell_type": "code",
   "execution_count": 46,
   "metadata": {},
   "outputs": [],
   "source": [
    "from torch import nn\n",
    "from models import AverageMeter"
   ]
  },
  {
   "cell_type": "code",
   "execution_count": 47,
   "metadata": {
    "scrolled": false
   },
   "outputs": [
    {
     "data": {
      "image/png": "[encoded data removed]",
      "text/plain": [
       "<Figure size 1440x504 with 2 Axes>"
      ]
     },
     "metadata": {
      "needs_background": "light"
     },
     "output_type": "display_data"
    }
   ],
   "source": [
    "NUM_EPOCH = 10\n",
    "criterion = nn.CrossEntropyLoss()\n",
    "\n",
    "for epoch in range(NUM_EPOCH):\n",
    "    \n",
    "    criterion = nn.CrossEntropyLoss()\n",
    "\n",
    "    train_loss_meter = AverageMeter()\n",
    "    train_accuracy_meter = AverageMeter()\n",
    "    test_loss_meter = AverageMeter()\n",
    "    test_accuracy_meter = AverageMeter()\n",
    "\n",
    "\n",
    "    for x_split, y_split in train_sl:\n",
    "        x_split = x_split.to(DEVICE)\n",
    "        y_split = y_split.to(DEVICE)\n",
    "\n",
    "        for train_batch in  torch_utils.dataloader(x_split, y_split, BATCH_SIZE):\n",
    "\n",
    "\n",
    "            x, labels = train_batch\n",
    "\n",
    "            logits = model.forward(x)\n",
    "            prediction = torch.argmax(logits, 1)\n",
    "            loss = criterion(logits, labels)\n",
    "\n",
    "\n",
    "            optimizer.zero_grad()\n",
    "            loss.backward()\n",
    "            optimizer.step()\n",
    "\n",
    "\n",
    "            acc = torch_utils.calculate_accuracy(prediction, labels)\n",
    "            train_loss_meter.update(loss)\n",
    "            train_accuracy_meter.update(acc)\n",
    "\n",
    "\n",
    "    HISTORY['train_loss'].append(train_loss_meter.avg)\n",
    "    HISTORY['train_accuracy'].append(train_accuracy_meter.avg)\n",
    "\n",
    "    for x_split, y_split in test_sl:\n",
    "        x_split = x_split.to(DEVICE)\n",
    "        y_split = y_split.to(DEVICE)\n",
    "\n",
    "        for test_batch in torch_utils.dataloader(x_split, y_split, BATCH_SIZE):\n",
    "            x, labels = test_batch\n",
    "\n",
    "            with torch.no_grad():\n",
    "                logits = model.forward(x)\n",
    "                prediction = torch.argmax(logits, 1)\n",
    "                loss = criterion(logits, labels)\n",
    "\n",
    "            acc = torch_utils.calculate_accuracy(prediction, labels)\n",
    "            test_loss_meter.update(loss)\n",
    "            test_accuracy_meter.update(acc)\n",
    "\n",
    "    HISTORY['test_loss'].append(test_loss_meter.avg)\n",
    "    HISTORY['test_accuracy'].append(test_accuracy_meter.avg)\n",
    "\n",
    "\n",
    "    # visualize all together\n",
    "    display.clear_output()\n",
    "    fig, axes = plt.subplots(1, 2, figsize=(20, 7))\n",
    "    axes[0].set_title('Loss (Cross Entropy)')\n",
    "    axes[0].plot(HISTORY['train_loss'], label='Train Loss')\n",
    "    axes[0].plot(HISTORY['test_loss'], label='Test Loss')\n",
    "    axes[0].grid()\n",
    "    axes[0].legend(fontsize=20)\n",
    "\n",
    "    axes[1].set_title('Accuracy')\n",
    "    axes[1].plot(HISTORY['train_accuracy'], label='Train Accuracy')\n",
    "    axes[1].plot(HISTORY['test_accuracy'], label='Test Accuracy')\n",
    "    axes[1].grid()\n",
    "    axes[1].legend(fontsize=20)\n",
    "\n",
    "    plt.show()"
   ]
  },
  {
   "cell_type": "code",
   "execution_count": 48,
   "metadata": {},
   "outputs": [
    {
     "data": {
      "text/plain": [
       "tensor(0.8643, device='cuda:0')"
      ]
     },
     "execution_count": 48,
     "metadata": {},
     "output_type": "execute_result"
    }
   ],
   "source": [
    "test_accuracy_meter.avg"
   ]
  },
  {
   "cell_type": "code",
   "execution_count": 129,
   "metadata": {},
   "outputs": [
    {
     "data": {
      "text/plain": [
       "tensor(0.8833, device='cuda:0')"
      ]
     },
     "execution_count": 129,
     "metadata": {},
     "output_type": "execute_result"
    }
   ],
   "source": [
    "test_accuracy_meter.avg"
   ]
  }
 ],
 "metadata": {
  "kernelspec": {
   "display_name": "Python 3 (ipykernel)",
   "language": "python",
   "name": "python3"
  },
  "language_info": {
   "codemirror_mode": {
    "name": "ipython",
    "version": 3
   },
   "file_extension": ".py",
   "mimetype": "text/x-python",
   "name": "python",
   "nbconvert_exporter": "python",
   "pygments_lexer": "ipython3",
   "version": "3.7.13"
  }
 },
 "nbformat": 4,
 "nbformat_minor": 4
}
