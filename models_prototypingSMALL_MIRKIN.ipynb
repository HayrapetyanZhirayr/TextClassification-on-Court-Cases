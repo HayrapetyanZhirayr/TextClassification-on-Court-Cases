{
 "cells": [
  {
   "cell_type": "code",
   "execution_count": 1,
   "metadata": {},
   "outputs": [],
   "source": [
    "# def get_from_yd(link, file_name):\n",
    "#   !wget https://getfile.dokpub.com/yandex/get/$link -O $file_name"
   ]
  },
  {
   "cell_type": "code",
   "execution_count": 4,
   "metadata": {
    "id": "79186d33"
   },
   "outputs": [],
   "source": [
    "# import numpy as np\n",
    "# np.set_printoptions(precision=2)\n",
    "# import json\n",
    "# from tqdm import tqdm\n",
    "# from sklearn.model_selection import train_test_split\n",
    "# from sklearn.feature_extraction.text import TfidfVectorizer\n",
    "# import pandas as pd\n",
    "# import importlib\n",
    "# import matplotlib.pyplot as plt\n",
    "# from navec import Navec\n",
    "# embedding_dir = 'temp_data/navec_hudlit_v1_12B_500K_300d_100q.tar'\n",
    "# navec = Navec.load(embedding_dir)\n",
    "# import os\n",
    "# import glob\n",
    "# from importlib import reload\n",
    "\n",
    "# import torch\n",
    "# import models \n",
    "# from importlib import reload\n",
    "# reload(models);\n",
    "# import models\n",
    "# from models import AverageMeter\n",
    "\n",
    "# import collections\n",
    "# %matplotlib inline\n",
    "# import matplotlib.pyplot as plt\n",
    "# from IPython import display\n",
    "# from torch import nn\n",
    "# from torch import optim\n",
    "\n",
    "import load_data\n",
    "import data_utils\n",
    "import torch_utils \n",
    "\n",
    "import importlib\n",
    "importlib.reload(load_data)\n",
    "importlib.reload(data_utils)\n",
    "importlib.reload(torch_utils)\n",
    "\n",
    "\n",
    "import numpy as np\n",
    "import matplotlib.pyplot as plt\n",
    "from sklearn.model_selection import train_test_split\n",
    "import pandas as pd\n",
    "from sklearn.feature_extraction.text import TfidfVectorizer\n",
    "import os\n",
    "import glob\n",
    "import json\n",
    "from tqdm import tqdm\n",
    "\n",
    "import torch\n",
    "from torch import optim"
   ]
  },
  {
   "cell_type": "code",
   "execution_count": 5,
   "metadata": {},
   "outputs": [],
   "source": [
    "# load_data.read_from_disk_preprocess_save(read_dir='raw_data/cases_small', save_dir='data/cases_small_preprocessedLEMM/',\n",
    "#                                     lemmatize=True)"
   ]
  },
  {
   "cell_type": "markdown",
   "metadata": {},
   "source": [
    "## Loading data"
   ]
  },
  {
   "cell_type": "markdown",
   "metadata": {},
   "source": [
    "Checking dataset_size"
   ]
  },
  {
   "cell_type": "code",
   "execution_count": 6,
   "metadata": {},
   "outputs": [
    {
     "name": "stderr",
     "output_type": "stream",
     "text": [
      "100%|█████████████████████████████████████████████████████████████████████████████████| 113/113 [00:06<00:00, 18.52it/s]\n"
     ]
    }
   ],
   "source": [
    "read_dir = 'data/cases_small_preprocessedLEMM/'\n",
    "Y = []\n",
    "for _, y in load_data.yield_preprocessed_json_from_disk(read_dir):\n",
    "    Y.append(y)"
   ]
  },
  {
   "cell_type": "markdown",
   "metadata": {},
   "source": [
    "Spliting indices into train and test"
   ]
  },
  {
   "cell_type": "code",
   "execution_count": 7,
   "metadata": {},
   "outputs": [],
   "source": [
    "# np.random.seed(0)\n",
    "DS_SIZE = len(Y)\n",
    "indices = np.arange(len(Y))\n",
    "train_indices, test_indices = train_test_split(indices, test_size=.2)"
   ]
  },
  {
   "cell_type": "markdown",
   "metadata": {},
   "source": [
    "Mapping casenumbers to categories IDs."
   ]
  },
  {
   "cell_type": "code",
   "execution_count": 8,
   "metadata": {},
   "outputs": [],
   "source": [
    "cases_info = pd.read_csv('data/cases_info.csv')\n",
    "cases_d = dict(zip(cases_info['Number'], cases_info['CategoryID']))\n",
    "del cases_info"
   ]
  },
  {
   "cell_type": "code",
   "execution_count": 9,
   "metadata": {},
   "outputs": [],
   "source": [
    "Y_id = np.array(list(map(lambda case: cases_d[case], Y)))"
   ]
  },
  {
   "cell_type": "markdown",
   "metadata": {},
   "source": [
    "Skipping indices that are not labeled. And creating a maping from categoryID to categoryIndex"
   ]
  },
  {
   "cell_type": "code",
   "execution_count": 10,
   "metadata": {},
   "outputs": [],
   "source": [
    "skip_indices = set(np.where(Y_id == -1)[0])\n",
    "keep_mask = (Y_id != -1)\n",
    "\n",
    "id2i = dict(zip(set(Y_id[keep_mask]), range(len(set(Y_id[keep_mask])))))\n",
    "i2id = {v:k for k, v in id2i.items()}\n",
    "\n",
    "train_indices=np.array(list(set(train_indices) - skip_indices))\n",
    "test_indices = np.array(list(set(test_indices) - skip_indices))"
   ]
  },
  {
   "cell_type": "markdown",
   "metadata": {},
   "source": [
    "Creating train corpus for tfidf vectorizer"
   ]
  },
  {
   "cell_type": "code",
   "execution_count": 11,
   "metadata": {},
   "outputs": [
    {
     "name": "stderr",
     "output_type": "stream",
     "text": [
      "100%|█████████████████████████████████████████████████████████████████████████████████| 113/113 [00:09<00:00, 11.35it/s]\n"
     ]
    }
   ],
   "source": [
    "def save_train_corpus(save_dir):\n",
    "    load_data.mkdir(save_dir)\n",
    "    train_indices_set = set(train_indices)\n",
    "    for j, (x_str, y_casenumber) in enumerate(\n",
    "                        load_data.yield_preprocessed_json_from_disk(read_dir)):\n",
    "        if j in train_indices_set:\n",
    "            y_id = cases_d[y_casenumber]\n",
    "            y_i = id2i[y_id]\n",
    "            i_path = os.path.join(save_dir, f'{y_i}.txt')\n",
    "            with open(i_path, 'a') as f:\n",
    "                f.write(x_str)\n",
    "                f.write(' ')\n",
    "save_train_corpus('temp_data/train_corpusSMALL_LEMM')"
   ]
  },
  {
   "cell_type": "markdown",
   "metadata": {},
   "source": [
    "Iniitializing vectorizer to read from disk"
   ]
  },
  {
   "cell_type": "code",
   "execution_count": 12,
   "metadata": {
    "scrolled": true
   },
   "outputs": [
    {
     "data": {
      "text/plain": [
       "['temp_data/train_corpusSMALL_LEMM/0.txt',\n",
       " 'temp_data/train_corpusSMALL_LEMM/1.txt',\n",
       " 'temp_data/train_corpusSMALL_LEMM/2.txt']"
      ]
     },
     "execution_count": 12,
     "metadata": {},
     "output_type": "execute_result"
    }
   ],
   "source": [
    "vectorizer = TfidfVectorizer(\n",
    "    input='filename',\n",
    "    ngram_range=(1,2),\n",
    "    max_df=.95, \n",
    "    min_df=.001,\n",
    "    tokenizer=None\n",
    "                            )\n",
    "# # max_df :: # ignoring terms that occur more then in {max_df} % documents (or categories)\n",
    "# # min_df :: # ignoring terms that occur less then in {min_df} % documents (or categories)\n",
    "filelist = sorted(\n",
    "    glob.glob('temp_data/train_corpusSMALL_LEMM/*'), \n",
    "    key=lambda x: int(x.split('/')[-1].split('.')[0])\n",
    ")\n",
    "\n",
    "filelist[:3]"
   ]
  },
  {
   "cell_type": "markdown",
   "metadata": {},
   "source": [
    "Fitting the vectorizer"
   ]
  },
  {
   "cell_type": "code",
   "execution_count": 13,
   "metadata": {},
   "outputs": [
    {
     "name": "stdout",
     "output_type": "stream",
     "text": [
      "APPROX FIT TIME (s):: 237\n"
     ]
    }
   ],
   "source": [
    "import time\n",
    "start = time.time()\n",
    "S = vectorizer.fit_transform(filelist)\n",
    "end = time.time()\n",
    "print(f'APPROX FIT TIME (s):: {round(end - start)}')"
   ]
  },
  {
   "cell_type": "markdown",
   "metadata": {},
   "source": [
    "Extracting relevant indices from train corpus using MIRKIN METHOD"
   ]
  },
  {
   "cell_type": "code",
   "execution_count": 17,
   "metadata": {
    "id": "c33bb7f8"
   },
   "outputs": [],
   "source": [
    "import mirkin_LS_method as mk\n",
    "\n",
    "def get_relevant_indices_mirkin(S):\n",
    "    MAX_F = 10000\n",
    "    n_categories = S.shape[0]\n",
    "    indices = set()\n",
    "    for i in tqdm(range(n_categories)):\n",
    "        \n",
    "        x = np.array(S[i].todense())[0]\n",
    "        idx = np.argsort(x)[::-1][:MAX_F]\n",
    "        itemset, pi, a, it = mk.choose_itemset(x[idx], 100)\n",
    "        itemset = np.sort(list(itemset))\n",
    "        \n",
    "        indices.update(set(idx[itemset]))\n",
    "    return np.sort(np.array(list(indices)))"
   ]
  },
  {
   "cell_type": "code",
   "execution_count": 18,
   "metadata": {},
   "outputs": [],
   "source": [
    "i=0\n",
    "x = np.array(S[i].todense())[0]\n",
    "itemset, pi, a, it = mk.choose_itemset(x, 100)"
   ]
  },
  {
   "cell_type": "code",
   "execution_count": 19,
   "metadata": {
    "scrolled": false
   },
   "outputs": [
    {
     "name": "stderr",
     "output_type": "stream",
     "text": [
      "100%|███████████████████████████████████████████████████████████████████████████████████| 36/36 [00:02<00:00, 12.91it/s]\n"
     ]
    }
   ],
   "source": [
    "rel_indices = get_relevant_indices_mirkin(S)\n"
   ]
  },
  {
   "cell_type": "code",
   "execution_count": 20,
   "metadata": {
    "id": "i6swHcpTlwpO",
    "scrolled": true
   },
   "outputs": [
    {
     "name": "stderr",
     "output_type": "stream",
     "text": [
      "100%|███████████████████████████████████████████████████████████████████████████████████| 36/36 [00:02<00:00, 12.98it/s]\n"
     ]
    },
    {
     "name": "stdout",
     "output_type": "stream",
     "text": [
      "NUMBER OF FEATURES (EMB DIM) :: 657\n",
      "APPROX CELL EXEC TIME (s):: 3\n"
     ]
    }
   ],
   "source": [
    "start = time.time()\n",
    "\n",
    "rel_indices = get_relevant_indices_mirkin(S)\n",
    "print(f'NUMBER OF FEATURES (EMB DIM) :: {len(rel_indices)}')\n",
    "S_d = np.array(S[:, rel_indices].todense())\n",
    "set_rel_indices = set(rel_indices)\n",
    "features = (\n",
    "    np.array(list(\n",
    "        (map(lambda x: x[1], \n",
    "            sorted(\n",
    "                [(idx, f) for f, idx in vectorizer.vocabulary_.items() if idx in set_rel_indices],\n",
    "                key=lambda x: x[0]\n",
    "            )\n",
    "        ))\n",
    "    ))\n",
    ")\n",
    "f_to_idx = dict(zip(features, range(len(features))))\n",
    "idf_measures = vectorizer.idf_[rel_indices]\n",
    "end = time.time()\n",
    "print(f'APPROX CELL EXEC TIME (s):: {round(end - start)}')"
   ]
  },
  {
   "cell_type": "markdown",
   "metadata": {},
   "source": [
    "#### String2VEC\n",
    "Creating numeric X"
   ]
  },
  {
   "cell_type": "code",
   "execution_count": 21,
   "metadata": {
    "id": "583b1910"
   },
   "outputs": [],
   "source": [
    "def doc_to_vector(doc_counts, f_to_idx, idf_v, use_idf=True):\n",
    "    n_words = sum(doc_counts.values())\n",
    "    tf_v = np.zeros(len(f_to_idx))\n",
    "    for t in doc_counts:  # t is for term\n",
    "        f_idx = f_to_idx.get(t, None)\n",
    "        if f_idx is not None:\n",
    "            tf = (doc_counts[t] \n",
    "            / n_words\n",
    "                )\n",
    "            tf_v[f_idx] = tf\n",
    "            \n",
    "    if use_idf:\n",
    "        return tf_v*idf_v\n",
    "    else:\n",
    "        return tf_v"
   ]
  },
  {
   "cell_type": "code",
   "execution_count": 22,
   "metadata": {},
   "outputs": [],
   "source": [
    "def weight_doc_vec(S, x):\n",
    "    EPS = 1e-9\n",
    "    distances = np.linalg.norm(S - x, axis=1)\n",
    "    similarities = 1 / (distances + EPS)\n",
    "    p = similarities / np.linalg.norm(similarities, ord=1)\n",
    "    return p.T@S"
   ]
  },
  {
   "cell_type": "code",
   "execution_count": 26,
   "metadata": {
    "scrolled": true
   },
   "outputs": [
    {
     "name": "stderr",
     "output_type": "stream",
     "text": [
      "100%|█████████████████████████████████████████████████████████████████████████████████| 113/113 [00:46<00:00,  2.41it/s]\n"
     ]
    }
   ],
   "source": [
    "read_dir = 'data/cases_small_preprocessedLEMM/'\n",
    "X = []\n",
    "for x_str, _ in load_data.yield_preprocessed_json_from_disk(read_dir):\n",
    "    doc_counts = data_utils.build_count_dict(x_str.split(' '))\n",
    "    doc_vec = doc_to_vector(doc_counts, f_to_idx, idf_measures, use_idf=True)\n",
    "    ### MAKSE SURE YOU NOTICE NEXT LINE #########\n",
    "#     doc_vec = weight_doc_vec(S_d, doc_vec)\n",
    "    #############################################\n",
    "    X.append(doc_vec)\n",
    "X = np.vstack(X)"
   ]
  },
  {
   "cell_type": "markdown",
   "metadata": {},
   "source": [
    "Train Test Split"
   ]
  },
  {
   "cell_type": "code",
   "execution_count": 27,
   "metadata": {},
   "outputs": [],
   "source": [
    "# X_train = X[train_indices]\n",
    "# X_test = X[test_indices]\n",
    "# Y_train_id = Y_id[train_indices]\n",
    "# Y_test_id = Y_id[test_indices]\n",
    "\n",
    "# Y_train_i = np.array(list(map(\n",
    "#     lambda x: id2i[x],\n",
    "#     Y_train_id\n",
    "# )))\n",
    "# Y_test_i = np.array(list(map(\n",
    "#     lambda x: id2i[x],\n",
    "#     Y_test_id\n",
    "# )))\n",
    "\n",
    "# X_train_t = torch.Tensor(X_train)\n",
    "# X_test_t = torch.Tensor(X_test)\n",
    "\n",
    "# Y_train_it = torch.Tensor(Y_train_i).type(torch.long)\n",
    "# Y_test_it = torch.Tensor(Y_test_i).type(torch.long)\n",
    "(train_indices, test_indices, X_train, X_test, Y_train_id, Y_test_id,\n",
    "            Y_train_i, Y_test_i, X_train_t, X_test_t, Y_train_it, Y_test_it\n",
    ") = torch_utils.custom_train_test_split2(X, Y_id)"
   ]
  },
  {
   "cell_type": "markdown",
   "metadata": {},
   "source": [
    "Network Configuations"
   ]
  },
  {
   "cell_type": "code",
   "execution_count": 28,
   "metadata": {
    "id": "8d6c3890",
    "scrolled": true
   },
   "outputs": [
    {
     "name": "stdout",
     "output_type": "stream",
     "text": [
      "INPUT_DIM : 657\n",
      "OUTPUT_DIM : 36\n",
      "BATCH_SIZE : 4096\n",
      "cpu\n"
     ]
    },
    {
     "name": "stderr",
     "output_type": "stream",
     "text": [
      "/home/whoisjiji/.local/lib/python3.7/site-packages/torch/cuda/__init__.py:82: UserWarning: CUDA initialization: CUDA unknown error - this may be due to an incorrectly set up environment, e.g. changing env variable CUDA_VISIBLE_DEVICES after program start. Setting the available devices to be zero. (Triggered internally at  ../c10/cuda/CUDAFunctions.cpp:112.)\n",
      "  return torch._C._cuda_getDeviceCount() > 0\n"
     ]
    }
   ],
   "source": [
    "# INPUT_DIM = X_train_t.shape[-1]\n",
    "# print(f'INPUT_DIM : {INPUT_DIM}')\n",
    "# OUTPUT_DIM = len(np.unique(np.concatenate((Y_train_i, Y_test_i))))  # _classes\n",
    "# print(f'OUTPUT_DIM : {OUTPUT_DIM}')\n",
    "\n",
    "# BATCH_SIZE = 2**12\n",
    "# print(f'BATCH_SIZE : {BATCH_SIZE}')\n",
    "\n",
    "# DEVICE = torch.device(\"cuda:0\" if torch.cuda.is_available() else \"cpu\") \n",
    "# print(DEVICE)\n",
    "\n",
    "# # linear_model = models.LinearModelCustom2(INPUT_DIM, OUTPUT_DIM)\n",
    "# # linear_model = models.LinearModel(INPUT_DIM, OUTPUT_DIM)\n",
    "# model = models.MLP2(INPUT_DIM, OUTPUT_DIM)\n",
    "# model.to(DEVICE)\n",
    "\n",
    "# HISTORY = collections.defaultdict(list)\n",
    "\n",
    "INPUT_DIM, OUTPUT_DIM, BATCH_SIZE, DEVICE, model, HISTORY = torch_utils.network_configs2(X_train_t, \n",
    "                                                                          Y_train_i, Y_test_i, \n",
    "                                                                                   verbose=True)"
   ]
  },
  {
   "cell_type": "markdown",
   "metadata": {},
   "source": [
    "### Training"
   ]
  },
  {
   "cell_type": "code",
   "execution_count": 30,
   "metadata": {},
   "outputs": [],
   "source": [
    "# optimizer = optim.SGD(linear_model.parameters(), lr=1e-2, momentum=0.1, nesterov=True, weight_decay=1e-1)\n",
    "optimizer = optim.Adam(model.parameters(), lr=1e-2)"
   ]
  },
  {
   "cell_type": "code",
   "execution_count": 31,
   "metadata": {
    "scrolled": false
   },
   "outputs": [
    {
     "data": {
      "image/png": "[encoded data removed]",
      "text/plain": [
       "<Figure size 1440x504 with 2 Axes>"
      ]
     },
     "metadata": {
      "needs_background": "light"
     },
     "output_type": "display_data"
    }
   ],
   "source": [
    "model, HISTORY, test_accuracy_meter = (\n",
    "    torch_utils.train(\n",
    "        NUM_EPOCH = 20,\n",
    "        BATCH_SIZE = BATCH_SIZE,\n",
    "        DEVICE = DEVICE,\n",
    "        optimizer = optimizer,\n",
    "        HISTORY = HISTORY,\n",
    "        X_train=X_train_t, Y_train=Y_train_it,\n",
    "        X_test=X_test_t, Y_test=Y_test_it,\n",
    "        model = model,\n",
    "        verbose=True)\n",
    ")"
   ]
  },
  {
   "cell_type": "markdown",
   "metadata": {},
   "source": [
    "## Analyzing mistakes "
   ]
  },
  {
   "cell_type": "code",
   "execution_count": 36,
   "metadata": {},
   "outputs": [
    {
     "name": "stderr",
     "output_type": "stream",
     "text": [
      "100%|█████████████████████████████████████████████████████████████████████████████████| 113/113 [00:17<00:00,  6.28it/s]\n"
     ]
    }
   ],
   "source": [
    "read_dir = 'data/cases_small_preprocessedLEMM/'\n",
    "Z_len_m = []\n",
    "Z_len = []\n",
    "for i, (x_str, y) in enumerate(load_data.yield_preprocessed_json_from_disk(read_dir)):\n",
    "    if i in test_indices:\n",
    "        doc_counts = data_utils.build_count_dict(x_str.split(' '))\n",
    "        doc_vec = doc_to_vector(doc_counts, f_to_idx, idf_measures, use_idf=True)\n",
    "        \n",
    "        y_id = cases_d[y]\n",
    "        y_idx = id2i[y_id]  \n",
    "        \n",
    "        with torch.no_grad():\n",
    "            logits = model.forward(torch.Tensor(doc_vec[None]))\n",
    "            prediction = torch.argmax(logits, 1).item()\n",
    "        \n",
    "        n_tokens = len(x_str.split())\n",
    "        \n",
    "        if prediction != y_idx:\n",
    "            \n",
    "            Z_len_m.append(n_tokens)\n",
    "        else:\n",
    "            Z_len.append(n_tokens)\n",
    "#             print(f'n_tokens :: {n_tokens}')\n",
    "#             print('==========================')\n",
    "#             print(x_str)\n",
    "#             print('==========================')\n",
    "#             break\n",
    "\n",
    "Z_len = np.sort(Z_len)\n",
    "Z_len_m = np.sort(Z_len_m)\n"
   ]
  },
  {
   "cell_type": "code",
   "execution_count": 37,
   "metadata": {
    "scrolled": false
   },
   "outputs": [
    {
     "data": {
      "text/plain": [
       "[<matplotlib.lines.Line2D at 0x7f9ba5e73f10>]"
      ]
     },
     "execution_count": 37,
     "metadata": {},
     "output_type": "execute_result"
    },
    {
     "data": {
      "image/png": "[encoded data removed]",
      "text/plain": [
       "<Figure size 432x288 with 1 Axes>"
      ]
     },
     "metadata": {
      "needs_background": "light"
     },
     "output_type": "display_data"
    }
   ],
   "source": [
    "# Z_len = np.array(Z_len)\n",
    "\n",
    "plt.hist(Z_len[:-100], density=True, bins=20);\n",
    "plt.hist(Z_len_m[:-20], density=True, bins=20, alpha=.5)\n",
    "plt.plot(np.linspace(0, 0.001)*0 + 200, np.linspace(0, 0.001))"
   ]
  },
  {
   "cell_type": "markdown",
   "metadata": {},
   "source": [
    "#### Conclusion ::\n",
    "We make a lot of mistakes when length of document is less then 200 in tokens."
   ]
  },
  {
   "cell_type": "markdown",
   "metadata": {},
   "source": [
    "### Several Runs Metrics"
   ]
  },
  {
   "cell_type": "code",
   "execution_count": 34,
   "metadata": {},
   "outputs": [
    {
     "name": "stderr",
     "output_type": "stream",
     "text": [
      "100%|███████████████████████████████████████████████████████████████████████████████████| 10/10 [00:32<00:00,  3.27s/it]\n"
     ]
    }
   ],
   "source": [
    "N_trials = 10\n",
    "accuracy_list = []\n",
    "for _ in tqdm(range(N_trials)):\n",
    "    (train_indices, test_indices, X_train, X_test, Y_train_id, Y_test_id,\n",
    "            Y_train_i, Y_test_i, X_train_t, X_test_t, Y_train_it, Y_test_it\n",
    "    ) = torch_utils.custom_train_test_split2(X, Y_id)\n",
    "    INPUT_DIM, OUTPUT_DIM, BATCH_SIZE, DEVICE, model, HISTORY = torch_utils.network_configs2(X_train_t, \n",
    "                                                                          Y_train_i, Y_test_i, \n",
    "                                                                                   verbose=False)\n",
    "    optimizer = optim.Adam(model.parameters(), lr=1e-2)\n",
    "    \n",
    "    model, HISTORY, test_accuracy_meter = (\n",
    "    torch_utils.train(\n",
    "        NUM_EPOCH = 10,\n",
    "        BATCH_SIZE = BATCH_SIZE,\n",
    "        DEVICE = DEVICE,\n",
    "        optimizer = optimizer,\n",
    "        HISTORY = HISTORY,\n",
    "        X_train=X_train_t, Y_train=Y_train_it,\n",
    "        X_test=X_test_t, Y_test=Y_test_it,\n",
    "        model = model, \n",
    "        verbose=False)\n",
    "    )\n",
    "    \n",
    "    accuracy_list.append(test_accuracy_meter.avg)\n",
    "accuracy_array = np.array(accuracy_list)"
   ]
  },
  {
   "cell_type": "code",
   "execution_count": 35,
   "metadata": {},
   "outputs": [
    {
     "data": {
      "text/plain": [
       "[<matplotlib.lines.Line2D at 0x7f9ba5e465d0>]"
      ]
     },
     "execution_count": 35,
     "metadata": {},
     "output_type": "execute_result"
    },
    {
     "data": {
      "image/png": "[encoded data removed]",
      "text/plain": [
       "<Figure size 432x288 with 1 Axes>"
      ]
     },
     "metadata": {
      "needs_background": "light"
     },
     "output_type": "display_data"
    }
   ],
   "source": [
    "plt.plot(accuracy_array)"
   ]
  }
 ],
 "metadata": {
  "accelerator": "GPU",
  "colab": {
   "collapsed_sections": [],
   "name": "Untitled.ipynb",
   "provenance": []
  },
  "kernelspec": {
   "display_name": "Python 3 (ipykernel)",
   "language": "python",
   "name": "python3"
  },
  "language_info": {
   "codemirror_mode": {
    "name": "ipython",
    "version": 3
   },
   "file_extension": ".py",
   "mimetype": "text/x-python",
   "name": "python",
   "nbconvert_exporter": "python",
   "pygments_lexer": "ipython3",
   "version": "3.7.13"
  }
 },
 "nbformat": 4,
 "nbformat_minor": 5
}
