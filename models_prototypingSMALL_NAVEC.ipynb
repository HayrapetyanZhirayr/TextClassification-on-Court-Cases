{
 "cells": [
  {
   "cell_type": "code",
   "execution_count": 1,
   "id": "e7c5039b",
   "metadata": {},
   "outputs": [],
   "source": [
    "# def get_from_yd(link, file_name):\n",
    "#   !wget https://getfile.dokpub.com/yandex/get/$link -O $file_name"
   ]
  },
  {
   "cell_type": "code",
   "execution_count": 16,
   "id": "d61a7e73",
   "metadata": {
    "id": "79186d33"
   },
   "outputs": [],
   "source": [
    "# import numpy as np\n",
    "# np.set_printoptions(precision=2)\n",
    "# import json\n",
    "# from tqdm import tqdm\n",
    "# from sklearn.model_selection import train_test_split\n",
    "# from sklearn.feature_extraction.text import TfidfVectorizer\n",
    "# import pandas as pd\n",
    "# import importlib\n",
    "# import matplotlib.pyplot as plt\n",
    "# from navec import Navec\n",
    "# navec = Navec.load(embedding_dir)\n",
    "# import os\n",
    "# import glob\n",
    "# from importlib import reload\n",
    "\n",
    "# import torch\n",
    "# import models \n",
    "# from importlib import reload\n",
    "# reload(models);\n",
    "# import models\n",
    "# from models import AverageMeter\n",
    "\n",
    "# import collections\n",
    "# %matplotlib inline\n",
    "# import matplotlib.pyplot as plt\n",
    "# from IPython import display\n",
    "# from torch import nn\n",
    "# from torch import optim\n",
    "embedding_dir = 'temp_data/navec_hudlit_v1_12B_500K_300d_100q.tar'\n",
    "EMB_DIM = 300\n",
    "from navec import Navec\n",
    "\n",
    "import load_data\n",
    "import data_utils\n",
    "import torch_utils \n",
    "\n",
    "import importlib\n",
    "importlib.reload(load_data)\n",
    "importlib.reload(data_utils)\n",
    "importlib.reload(torch_utils)\n",
    "\n",
    "\n",
    "import numpy as np\n",
    "import matplotlib.pyplot as plt\n",
    "from sklearn.model_selection import train_test_split\n",
    "import pandas as pd\n",
    "from sklearn.feature_extraction.text import TfidfVectorizer\n",
    "import os\n",
    "import glob\n",
    "import json\n",
    "from tqdm import tqdm\n",
    "\n",
    "import torch\n",
    "from torch import optim"
   ]
  },
  {
   "cell_type": "code",
   "execution_count": 6,
   "id": "570626f4",
   "metadata": {},
   "outputs": [],
   "source": [
    "# load_data.read_from_disk_preprocess_save(read_dir='data/cases_small', save_dir='data/cases_small_preprocessed/',\n",
    "#                                     lemmatize=False)"
   ]
  },
  {
   "cell_type": "markdown",
   "id": "ae6be3d3",
   "metadata": {},
   "source": [
    "## Loading data"
   ]
  },
  {
   "cell_type": "code",
   "execution_count": 32,
   "metadata": {},
   "outputs": [
    {
     "name": "stderr",
     "output_type": "stream",
     "text": [
      "100%|█████████████████████████████████████████████████████████████████████████████████| 113/113 [13:41<00:00,  7.27s/it]\n"
     ]
    }
   ],
   "source": [
    "read_dir = 'data/cases_small_preprocessed/'\n",
    "X, Y = load_data.read_preprocessed_from_disk_to_numeric_to_ram(read_dir, embedding_dir, EMB_DIM)"
   ]
  },
  {
   "cell_type": "code",
   "execution_count": 33,
   "metadata": {},
   "outputs": [],
   "source": [
    "cases_info = pd.read_csv('data/cases_info.csv')"
   ]
  },
  {
   "cell_type": "markdown",
   "metadata": {},
   "source": [
    "Mapping casenumbers to categories IDs."
   ]
  },
  {
   "cell_type": "code",
   "execution_count": 34,
   "metadata": {},
   "outputs": [],
   "source": [
    "cases_d = dict(zip(cases_info['Number'], cases_info['CategoryID']))"
   ]
  },
  {
   "cell_type": "code",
   "execution_count": 35,
   "metadata": {},
   "outputs": [],
   "source": [
    "Y_id = np.array(list(map(lambda case: cases_d[case], Y)))"
   ]
  },
  {
   "cell_type": "markdown",
   "metadata": {},
   "source": [
    "Removing not labeled examples and creating maping from category id to integer index of category "
   ]
  },
  {
   "cell_type": "code",
   "execution_count": 37,
   "metadata": {},
   "outputs": [],
   "source": [
    "indices = np.arange(len(X))\n",
    "labeled_mask = (Y_id != -1)\n",
    "X = X[labeled_mask]\n",
    "Y = Y[labeled_mask]\n",
    "Y_id = Y_id[labeled_mask]\n",
    "indices = indices[labeled_mask]\n",
    "id2i = dict(zip(set(Y_id), range(len(set(Y_id)))))\n",
    "i2id = {v:k for k, v in id2i.items()}\n",
    "Y_i = np.array(list(map(lambda _id: id2i[_id], Y_id)))"
   ]
  },
  {
   "cell_type": "markdown",
   "metadata": {},
   "source": [
    "Train test split"
   ]
  },
  {
   "cell_type": "code",
   "execution_count": 41,
   "metadata": {},
   "outputs": [],
   "source": [
    "(X_train, X_test,\n",
    "Y_train_i, Y_test_i,\n",
    "train_indices, test_indices\n",
    ") = train_test_split(X, Y_i, indices, test_size=.2)\n",
    "\n",
    "X_train_t = torch.Tensor(X_train)\n",
    "X_test_t = torch.Tensor(X_test)\n",
    "\n",
    "Y_train_it = torch.Tensor(Y_train_i).type(torch.long)\n",
    "Y_test_it = torch.Tensor(Y_test_i).type(torch.long)\n",
    "\n",
    "# X_train_t, X_test_t, Y_train_it, Y_test_it = torch_utils.custom_train_test_split(X, Y_i)"
   ]
  },
  {
   "cell_type": "markdown",
   "metadata": {},
   "source": [
    "Network Configurations"
   ]
  },
  {
   "cell_type": "code",
   "execution_count": 42,
   "id": "e3fef739",
   "metadata": {
    "id": "8d6c3890"
   },
   "outputs": [
    {
     "name": "stdout",
     "output_type": "stream",
     "text": [
      "INPUT_DIM : 300\n",
      "OUTPUT_DIM : 36\n",
      "BATCH_SIZE : 4096\n",
      "cpu\n"
     ]
    }
   ],
   "source": [
    "# INPUT_DIM = X_train_t.shape[-1]\n",
    "# print(f'INPUT_DIM : {INPUT_DIM}')\n",
    "# OUTPUT_DIM = len(np.unique(Y_i))  # _classes\n",
    "# print(f'OUTPUT_DIM : {OUTPUT_DIM}')\n",
    "    \n",
    "# BATCH_SIZE = 2**12\n",
    "# print(f'BATCH_SIZE : {BATCH_SIZE}')\n",
    "\n",
    "# DEVICE = torch.device(\"cuda:0\" if torch.cuda.is_available() else \"cpu\") \n",
    "# print(DEVICE)\n",
    "\n",
    "# # linear_model = models.LinearModelCustom2(INPUT_DIM, OUTPUT_DIM)\n",
    "# # linear_model = models.LinearModel(INPUT_DIM, OUTPUT_DIM)\n",
    "# model = models.MLP2(INPUT_DIM, OUTPUT_DIM)\n",
    "# model.to(DEVICE)\n",
    "\n",
    "# HISTORY = collections.defaultdict(list)\n",
    "\n",
    "INPUT_DIM, OUTPUT_DIM, BATCH_SIZE, DEVICE, model, HISTORY = torch_utils.network_configs(X_train_t, Y_i, True)"
   ]
  },
  {
   "cell_type": "markdown",
   "metadata": {},
   "source": [
    "#### TRAINING"
   ]
  },
  {
   "cell_type": "code",
   "execution_count": 43,
   "metadata": {},
   "outputs": [],
   "source": [
    "# optimizer = optim.SGD(linear_model.parameters(), lr=1e-2, momentum=0.1, nesterov=True, weight_decay=1e-1)\n",
    "optimizer = optim.Adam(model.parameters(), lr=1e-2)"
   ]
  },
  {
   "cell_type": "code",
   "execution_count": 44,
   "id": "12cad8ac",
   "metadata": {},
   "outputs": [
    {
     "data": {
      "image/png": "[encoded data removed]",
      "text/plain": [
       "<Figure size 1440x504 with 2 Axes>"
      ]
     },
     "metadata": {
      "needs_background": "light"
     },
     "output_type": "display_data"
    }
   ],
   "source": [
    "model, HISTORY, test_accuracy_meter= (\n",
    "    torch_utils.train(\n",
    "        NUM_EPOCH = 10,\n",
    "        BATCH_SIZE = BATCH_SIZE,\n",
    "        DEVICE = DEVICE,\n",
    "        optimizer = optimizer,\n",
    "        HISTORY = HISTORY,\n",
    "        X_train=X_train_t, Y_train=Y_train_it,\n",
    "        X_test=X_test_t, Y_test=Y_test_it,\n",
    "        model = model,\n",
    "        verbose=True)\n",
    ")"
   ]
  },
  {
   "cell_type": "markdown",
   "metadata": {},
   "source": [
    "## Analyzing mistakes "
   ]
  },
  {
   "cell_type": "code",
   "execution_count": 46,
   "metadata": {},
   "outputs": [
    {
     "name": "stderr",
     "output_type": "stream",
     "text": [
      "100%|█████████████████████████████████████████████████████████████████████████████████| 113/113 [02:37<00:00,  1.40s/it]\n"
     ]
    }
   ],
   "source": [
    "read_dir = 'data/cases_small_preprocessedLEMM/'\n",
    "Z_len_m = []\n",
    "Z_len = []\n",
    "navec = Navec.load(embedding_dir)\n",
    "\n",
    "for i, (x_str, y) in enumerate(load_data.yield_preprocessed_json_from_disk(read_dir)):\n",
    "    if i in test_indices:\n",
    "#         doc_counts = data_utils.build_count_dict(x_str.split(' '))\n",
    "#         doc_vec = doc_to_vector(doc_counts, f_to_idx, idf_measures, use_idf=True)\n",
    "\n",
    "        doc_vec = np.zeros(EMB_DIM)\n",
    "        counts = 0\n",
    "        for token in x_str.split(' '):\n",
    "            if token in navec:\n",
    "                doc_vec += navec[token]\n",
    "                counts += 1\n",
    "\n",
    "        if counts:\n",
    "            doc_vec = doc_vec / counts\n",
    "        \n",
    "        y_id = cases_d[y]\n",
    "        y_idx = id2i[y_id]  \n",
    "        \n",
    "        with torch.no_grad():\n",
    "            logits = model.forward(torch.Tensor(doc_vec[None]))\n",
    "            prediction = torch.argmax(logits, 1).item()\n",
    "        \n",
    "        n_tokens = len(x_str.split())\n",
    "        \n",
    "        if prediction != y_idx:\n",
    "            \n",
    "            Z_len_m.append(n_tokens)\n",
    "        else:\n",
    "            Z_len.append(n_tokens)\n",
    "#             print(f'n_tokens :: {n_tokens}')\n",
    "#             print('==========================')\n",
    "#             print(x_str)\n",
    "#             print('==========================')\n",
    "#             break\n",
    "\n",
    "Z_len = np.sort(Z_len)\n",
    "Z_len_m = np.sort(Z_len_m)\n"
   ]
  },
  {
   "cell_type": "code",
   "execution_count": 47,
   "metadata": {
    "scrolled": true
   },
   "outputs": [
    {
     "data": {
      "text/plain": [
       "[<matplotlib.lines.Line2D at 0x7f20f16dc6d0>]"
      ]
     },
     "execution_count": 47,
     "metadata": {},
     "output_type": "execute_result"
    },
    {
     "data": {
      "image/png": "[encoded data removed]",
      "text/plain": [
       "<Figure size 432x288 with 1 Axes>"
      ]
     },
     "metadata": {
      "needs_background": "light"
     },
     "output_type": "display_data"
    }
   ],
   "source": [
    "# Z_len = np.array(Z_len)\n",
    "\n",
    "plt.hist(Z_len[:-100], density=True, bins=20);\n",
    "plt.hist(Z_len_m[:-20], density=True, bins=20, alpha=.5)\n",
    "plt.plot(np.linspace(0, 0.001)*0 + 200, np.linspace(0, 0.001))"
   ]
  },
  {
   "cell_type": "markdown",
   "metadata": {},
   "source": [
    "## Several runs metrics"
   ]
  },
  {
   "cell_type": "code",
   "execution_count": 50,
   "metadata": {},
   "outputs": [
    {
     "name": "stderr",
     "output_type": "stream",
     "text": [
      "100%|███████████████████████████████████████████████████████████████████████████████████| 10/10 [00:09<00:00,  1.06it/s]\n"
     ]
    }
   ],
   "source": [
    "N_trials = 10\n",
    "accuracy_list = []\n",
    "for _ in tqdm(range(N_trials)):\n",
    "    X_train_t, X_test_t, Y_train_it, Y_test_it = torch_utils.custom_train_test_split(X, Y_i)\n",
    "    INPUT_DIM, OUTPUT_DIM, BATCH_SIZE, DEVICE, model, HISTORY = torch_utils.network_configs(X_train_t, Y_i, False)\n",
    "    optimizer = optim.Adam(model.parameters(), lr=1e-2)\n",
    "    model, HISTORY, test_accuracy_meter= (\n",
    "    torch_utils.train(\n",
    "        NUM_EPOCH = 5,\n",
    "        BATCH_SIZE = BATCH_SIZE,\n",
    "        DEVICE = DEVICE,\n",
    "        optimizer = optimizer,\n",
    "        HISTORY = HISTORY,\n",
    "        X_train=X_train_t, Y_train=Y_train_it,\n",
    "        X_test=X_test_t, Y_test=Y_test_it,\n",
    "        model = model,\n",
    "        verbose=False)\n",
    "    )\n",
    "    \n",
    "    accuracy_list.append(test_accuracy_meter.avg)\n",
    "accuracy_array = np.array(accuracy_list)"
   ]
  },
  {
   "cell_type": "code",
   "execution_count": 51,
   "metadata": {},
   "outputs": [
    {
     "data": {
      "text/plain": [
       "[<matplotlib.lines.Line2D at 0x7f20f1685150>]"
      ]
     },
     "execution_count": 51,
     "metadata": {},
     "output_type": "execute_result"
    },
    {
     "data": {
      "image/png": "[encoded data removed]",
      "text/plain": [
       "<Figure size 432x288 with 1 Axes>"
      ]
     },
     "metadata": {
      "needs_background": "light"
     },
     "output_type": "display_data"
    }
   ],
   "source": [
    "plt.plot(accuracy_array)"
   ]
  }
 ],
 "metadata": {
  "accelerator": "GPU",
  "colab": {
   "collapsed_sections": [],
   "name": "Untitled.ipynb",
   "provenance": []
  },
  "kernelspec": {
   "display_name": "Python 3 (ipykernel)",
   "language": "python",
   "name": "python3"
  },
  "language_info": {
   "codemirror_mode": {
    "name": "ipython",
    "version": 3
   },
   "file_extension": ".py",
   "mimetype": "text/x-python",
   "name": "python",
   "nbconvert_exporter": "python",
   "pygments_lexer": "ipython3",
   "version": "3.7.13"
  }
 },
 "nbformat": 4,
 "nbformat_minor": 5
}
