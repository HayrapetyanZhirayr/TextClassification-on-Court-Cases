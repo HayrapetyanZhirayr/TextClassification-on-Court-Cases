{
 "cells": [
  {
   "cell_type": "code",
   "execution_count": 20,
   "id": "a8e25dfe",
   "metadata": {
    "scrolled": true
   },
   "outputs": [],
   "source": [
    "import pandas as pd\n",
    "import os\n",
    "import sys\n",
    "home = os.path.expanduser('~')\n",
    "my_packages = os.path.join(home, 'my_packages')\n",
    "sys.path.append(my_packages)\n",
    "import tree_structures as ts\n",
    "import json\n",
    "import dfs_sort_utils\n",
    "import date_utils\n",
    "import taxonomy_utils"
   ]
  },
  {
   "cell_type": "markdown",
   "id": "1fbddb93",
   "metadata": {},
   "source": [
    "<span style=\"font-family:Papyrus; font-size:1.5em;\">EDA of kadarbitr taxonomy.</span>"
   ]
  },
  {
   "cell_type": "code",
   "execution_count": 2,
   "id": "9a075303",
   "metadata": {
    "scrolled": true
   },
   "outputs": [
    {
     "name": "stdout",
     "output_type": "stream",
     "text": [
      "Analyzing gaps or repetitions \n",
      "\n",
      "9. Споры о неисполнении или ненадлежащем исполнении обязательств по договорам банковского счета, при осуществлении расчетов --> 9.2. о привлечении к админ. ответственности за недобросовестную конкуренцию\n",
      "14. Споры о неисполнении или ненадлежащем исполнении обязательств по иным видам договоров --> 16. Корпоративные споры\n",
      "39. Споры о признании и приведении в исполнение решений иностранных судов и иностранных арбитражных решений --> 50. Споры по делам об оспаривании нормативных правовых актов Президента РФ\n",
      "53. Споры по делам об оспаривании ненормативных правовых актов Президента РФ --> 54.1. Дела об оспаривании ненормативных правовых актов Совета Федерации\n",
      "59. споры между высшими органами государственной власти субъектов РФ --> 60.1. жалоба на решение ВККС и ККС о досрочном прекращении полномочий судей\n",
      "60.5. обращение граждан и организаций на действие (бездействие) судей --> 71. об оспаривании нормативно-правовых актов федер. органов исп. власти в обл. правовой охраны рез-ов интеллект. деятельности и средств индивидуализации\n",
      "72.1.2. об оспаривании ненорм. правовых актов федер. органа исп. власти по селекционным достижениям --> 72.1.2.2. об отказе в признании недействительным патента на селекционное достижение\n"
     ]
    }
   ],
   "source": [
    "data = json.load(open('kad.arbitr-parser/data.json', 'r'))\n",
    "kada_cats = list(data.keys())\n",
    "assert dfs_sort_utils.dfs_sort(kada_cats) == kada_cats, 'categories are not in dfs order'\n",
    "print('Analyzing gaps or repetitions \\n')\n",
    "dfs_sort_utils.print_dfs_order_mistakes(kada_cats)"
   ]
  },
  {
   "cell_type": "markdown",
   "metadata": {},
   "source": [
    "### A decision was taken to delete nodes 60.1 - 60.5 because there are only a few of cases presented in this categories (in sum near 10 cases) and also to delete nodes 54.1 - 54.2 because there are no cases in this categories and they ruin the taxonomy structure."
   ]
  },
  {
   "cell_type": "code",
   "execution_count": 3,
   "metadata": {
    "scrolled": true
   },
   "outputs": [
    {
     "name": "stdout",
     "output_type": "stream",
     "text": [
      "Deleted ::\n",
      "\t 54.1. Дела об оспаривании ненормативных правовых актов Совета Федерации\n",
      "\t 54.2. Дела об оспаривании ненормативных правовых актов Государственной Думы\n",
      "\t 60.1. жалоба на решение ВККС и ККС о досрочном прекращении полномочий судей\n",
      "\t 60.2. жалоба на решение ВККС о наложении дисциплинарных взысканий\n",
      "\t 60.3. жалоба на решение ВККС о результатах квалификационной аттестации\n",
      "\t 60.4. обращение Председателя Верховного Суда Российской Федерации\n",
      "\t 60.5. обращение граждан и организаций на действие (бездействие) судей\n"
     ]
    }
   ],
   "source": [
    "kada_cats_new = []\n",
    "print('Deleted ::')\n",
    "for i, cat in enumerate(kada_cats):\n",
    "    if cat.startswith('60.') or cat.startswith('54.'):\n",
    "        print('\\t', cat)\n",
    "    else:\n",
    "        kada_cats_new.append(cat)"
   ]
  },
  {
   "cell_type": "code",
   "execution_count": 4,
   "metadata": {
    "scrolled": true
   },
   "outputs": [
    {
     "name": "stdout",
     "output_type": "stream",
     "text": [
      "9. Споры о неисполнении или ненадлежащем исполнении обязательств по договорам банковского счета, при осуществлении расчетов --> 9.2. о привлечении к админ. ответственности за недобросовестную конкуренцию\n",
      "14. Споры о неисполнении или ненадлежащем исполнении обязательств по иным видам договоров --> 16. Корпоративные споры\n",
      "39. Споры о признании и приведении в исполнение решений иностранных судов и иностранных арбитражных решений --> 50. Споры по делам об оспаривании нормативных правовых актов Президента РФ\n",
      "53. Споры по делам об оспаривании ненормативных правовых актов Президента РФ --> 55. Споры по делам об оспаривании ненормативных правовых актов Правительства РФ\n",
      "59. споры между высшими органами государственной власти субъектов РФ --> 71. об оспаривании нормативно-правовых актов федер. органов исп. власти в обл. правовой охраны рез-ов интеллект. деятельности и средств индивидуализации\n",
      "72.1.2. об оспаривании ненорм. правовых актов федер. органа исп. власти по селекционным достижениям --> 72.1.2.2. об отказе в признании недействительным патента на селекционное достижение\n"
     ]
    }
   ],
   "source": [
    "dfs_sort_utils.print_dfs_order_mistakes(kada_cats_new)"
   ]
  },
  {
   "cell_type": "markdown",
   "metadata": {},
   "source": [
    "No critical errors in taxonomy with deleted nodes. This will be used as the main taxonomy."
   ]
  },
  {
   "cell_type": "markdown",
   "metadata": {},
   "source": [
    "## Analyzing intersections of documents between categories"
   ]
  },
  {
   "cell_type": "code",
   "execution_count": 5,
   "metadata": {
    "scrolled": true
   },
   "outputs": [
    {
     "name": "stdout",
     "output_type": "stream",
     "text": [
      "8 :: 117\n",
      "\t 8 -->  9 :: 25\n",
      "\t 8 -->  16.9 :: 25\n",
      "\t 8 -->  24.2.3 :: 25\n",
      "\t 8 -->  28 :: 25\n",
      "\t 8 -->  29.3 :: 12\n",
      "\t 8 -->  29.9 :: 25\n",
      "\t 8 -->  36 :: 22\n",
      "\t 8 -->  36.3 :: 14\n",
      "9 :: 106\n",
      "\t 9 -->  16.9 :: 25\n",
      "\t 9 -->  24.2.3 :: 25\n",
      "\t 9 -->  28 :: 25\n",
      "\t 9 -->  29.3 :: 12\n",
      "\t 9 -->  29.9 :: 25\n",
      "\t 9 -->  36 :: 22\n",
      "\t 9 -->  36.3 :: 14\n",
      "16.9 :: 106\n",
      "\t 16.9 -->  24.2.3 :: 25\n",
      "\t 16.9 -->  28 :: 25\n",
      "\t 16.9 -->  29.3 :: 12\n",
      "\t 16.9 -->  29.9 :: 25\n",
      "\t 16.9 -->  36 :: 22\n",
      "\t 16.9 -->  36.3 :: 14\n",
      "20.3.1 :: 100\n",
      "\t 20.3.1 -->  34.4 :: 6\n",
      "20.4 :: 100\n",
      "\t 20.4 -->  34.5 :: 100\n",
      "20.4.1 :: 100\n",
      "\t 20.4.1 -->  34.5 :: 100\n",
      "20.5 :: 98\n",
      "\t 20.5 -->  34.1 :: 12\n",
      "\t 20.5 -->  34.2 :: 6\n",
      "\t 20.5 -->  34.3 :: 22\n",
      "20.5.1 :: 100\n",
      "\t 20.5.1 -->  34.1 :: 17\n",
      "20.5.2 :: 98\n",
      "\t 20.5.2 -->  34.2 :: 6\n",
      "20.5.3 :: 100\n",
      "\t 20.5.3 -->  34.3 :: 22\n",
      "24.2 :: 99\n",
      "\t 24.2 -->  24.5 :: 87\n",
      "\t 24.2 -->  24.6 :: 4\n",
      "24.2.2 :: 25\n",
      "\t 24.2.2 -->  24.5 :: 24\n",
      "24.2.3 :: 99\n",
      "\t 24.2.3 -->  24.5 :: 71\n",
      "\t 24.2.3 -->  24.6 :: 3\n",
      "\t 24.2.3 -->  28 :: 25\n",
      "\t 24.2.3 -->  29.3 :: 12\n",
      "\t 24.2.3 -->  29.9 :: 25\n",
      "\t 24.2.3 -->  36 :: 22\n",
      "\t 24.2.3 -->  36.3 :: 14\n",
      "28 :: 107\n",
      "\t 28 -->  29.3 :: 12\n",
      "\t 28 -->  29.9 :: 25\n",
      "\t 28 -->  36 :: 22\n",
      "\t 28 -->  36.3 :: 14\n",
      "29.3 :: 73\n",
      "\t 29.3 -->  29.9 :: 12\n",
      "\t 29.3 -->  36 :: 10\n",
      "\t 29.3 -->  36.3 :: 7\n",
      "29.9 :: 116\n",
      "\t 29.9 -->  36 :: 22\n",
      "\t 29.9 -->  36.3 :: 14\n",
      "50 :: 97\n",
      "\t 50 -->  51 :: 97\n",
      "\t 50 -->  52 :: 97\n",
      "51 :: 97\n",
      "\t 51 -->  52 :: 97\n"
     ]
    }
   ],
   "source": [
    "cats = list(data.keys())\n",
    "for i in range(len(cats)):\n",
    "    cat1 = cats[i]\n",
    "    doc1 = set(list(map(lambda x: tuple(x), data[cat1])))\n",
    "    cat_is_printed = False\n",
    "    for j in range(i+1, len(cats)):\n",
    "        cat2 = cats[j]\n",
    "        doc2 = set(list(map(lambda x: tuple(x), data[cat2])))\n",
    "        \n",
    "        intersection = len(doc1.intersection(doc2))\n",
    "        \n",
    "        index1 = cat1.split('. ')[0]\n",
    "        index2 = cat2.split('. ')[0]\n",
    "        if intersection > 1 and (not index2.startswith(index1)):\n",
    "            if not cat_is_printed:\n",
    "                print(index1,'::',len(doc1))\n",
    "            cat_is_printed = True\n",
    "            print('\\t', index1, '--> ',index2, '::' , intersection)"
   ]
  },
  {
   "cell_type": "code",
   "execution_count": 6,
   "metadata": {},
   "outputs": [],
   "source": [
    "same_groups = [('50', '51', '52',), ('20.4', '34.5')]  # inference from previous cell"
   ]
  },
  {
   "cell_type": "markdown",
   "metadata": {},
   "source": [
    "Analyzing (strange) group of categories with a lot of intersections"
   ]
  },
  {
   "cell_type": "code",
   "execution_count": 7,
   "metadata": {
    "scrolled": true
   },
   "outputs": [
    {
     "name": "stdout",
     "output_type": "stream",
     "text": [
      "doc_1  list of categories :: ['8', '9', '16.9', '24.2.3', '28', '29.3', '29.9', '36', '36.3']\n",
      "doc_2  list of categories :: ['8', '9', '16.9', '24.2.3', '28', '29.3', '29.9', '36', '36.3']\n",
      "doc_3  list of categories :: ['8', '9', '16.9', '24.2.3', '28', '29.3', '29.9', '36', '36.3']\n",
      "doc_4  list of categories :: ['8', '9', '16.9', '24.2.3', '28', '29.3', '29.9', '36', '36.3']\n",
      "doc_5  list of categories :: ['8', '9', '16.9', '24.2.3', '28', '29.3', '29.9', '36', '36.3']\n",
      "doc_6  list of categories :: ['8', '9', '16.9', '24.2.3', '28', '29.3', '29.9', '36', '36.3']\n",
      "doc_7  list of categories :: ['8', '9', '16.9', '24.2.3', '28', '29.3', '29.9', '36', '36.3']\n",
      "doc_8  list of categories :: ['8', '9', '16.9', '24.2.3', '28', '29.3', '29.9', '36']\n",
      "doc_9  list of categories :: ['8', '9', '16.9', '24.2.3', '28', '29.3', '29.9', '36']\n",
      "doc_10  list of categories :: ['8', '9', '16.9', '24.2.3', '28', '29.3', '29.9', '36']\n"
     ]
    }
   ],
   "source": [
    "strange_group = [\n",
    "    '8', '9', '16.9', '24.2.3',\n",
    "    '28', '29.3', '29.9', '36',\n",
    "    '36.3'\n",
    "]\n",
    "strange_documents = {}\n",
    "for i in range(len(cats)):\n",
    "    cat = cats[i]\n",
    "    index = cat.split('. ')[0]\n",
    "    if index in strange_group:\n",
    "        for doc_list in data[cat]:\n",
    "            doc_tuple = tuple(doc_list)\n",
    "            if doc_tuple not in strange_documents:\n",
    "                strange_documents[doc_tuple] = [index]\n",
    "            else:\n",
    "                strange_documents[doc_tuple].append(index)\n",
    "\n",
    "max_prints = 10\n",
    "n_prints = 0\n",
    "for i, (_, index_list) in enumerate(\n",
    "                            sorted(\n",
    "                                strange_documents.items(), key=lambda x: -len(x[1])\n",
    "                            )\n",
    "                        ):\n",
    "    if i == 0: test_doc = _\n",
    "    if len(index_list) > 1 and n_prints < max_prints:\n",
    "        print(f'doc_{i+1}  list of categories :: {index_list}')\n",
    "        n_prints += 1\n"
   ]
  },
  {
   "cell_type": "code",
   "execution_count": 8,
   "metadata": {},
   "outputs": [
    {
     "data": {
      "text/plain": [
       "'27.09.2027'"
      ]
     },
     "execution_count": 8,
     "metadata": {},
     "output_type": "execute_result"
    }
   ],
   "source": [
    "test_doc[0]  # all strange docs have anomalous dates"
   ]
  },
  {
   "cell_type": "code",
   "execution_count": 11,
   "metadata": {},
   "outputs": [
    {
     "name": "stdout",
     "output_type": "stream",
     "text": [
      "20.3.1 :: 100\n",
      "\t 20.3.1 -->  34.4 :: 6\n",
      "20.4 :: 100\n",
      "\t 20.4 -->  34.5 :: 100\n",
      "20.4.1 :: 100\n",
      "\t 20.4.1 -->  34.5 :: 100\n",
      "20.5 :: 98\n",
      "\t 20.5 -->  34.1 :: 12\n",
      "\t 20.5 -->  34.2 :: 6\n",
      "\t 20.5 -->  34.3 :: 22\n",
      "20.5.1 :: 100\n",
      "\t 20.5.1 -->  34.1 :: 17\n",
      "20.5.2 :: 98\n",
      "\t 20.5.2 -->  34.2 :: 6\n",
      "20.5.3 :: 100\n",
      "\t 20.5.3 -->  34.3 :: 22\n",
      "24.2 :: 99\n",
      "\t 24.2 -->  24.5 :: 87\n",
      "\t 24.2 -->  24.6 :: 4\n",
      "24.2.2 :: 25\n",
      "\t 24.2.2 -->  24.5 :: 24\n",
      "24.2.3 :: 74\n",
      "\t 24.2.3 -->  24.5 :: 71\n",
      "\t 24.2.3 -->  24.6 :: 3\n",
      "50 :: 97\n",
      "\t 50 -->  51 :: 97\n",
      "\t 50 -->  52 :: 97\n",
      "51 :: 97\n",
      "\t 51 -->  52 :: 97\n"
     ]
    }
   ],
   "source": [
    "cats = list(data.keys())\n",
    "for i in range(len(cats)):\n",
    "    cat1 = cats[i]\n",
    "    doc1 = set(list(map(lambda x: tuple(x), data[cat1])))\n",
    "    doc1 = {doc for doc in doc1 if not date_utils.date_is_anomal(doc[0])}\n",
    "    cat_is_printed = False\n",
    "    for j in range(i+1, len(cats)):\n",
    "        cat2 = cats[j]\n",
    "        doc2 = set(list(map(lambda x: tuple(x), data[cat2])))\n",
    "        doc2 = {doc for doc in doc2 if not date_utils.date_is_anomal(doc[0])}\n",
    "        \n",
    "        intersection = len(doc1.intersection(doc2))\n",
    "        \n",
    "        index1 = cat1.split('. ')[0]\n",
    "        index2 = cat2.split('. ')[0]\n",
    "        if intersection > 1 and (not index2.startswith(index1)):\n",
    "            if not cat_is_printed:\n",
    "                print(index1,'::',len(doc1))\n",
    "            cat_is_printed = True\n",
    "            print('\\t', index1, '--> ',index2, '::' , intersection)"
   ]
  },
  {
   "cell_type": "markdown",
   "metadata": {},
   "source": [
    "Well most strange intersections come from documents with anomalous dates."
   ]
  },
  {
   "cell_type": "code",
   "execution_count": 11,
   "id": "77d20592",
   "metadata": {},
   "outputs": [],
   "source": [
    "# THIS CELL IS OUTDATED (DECISION CHANGED)\n",
    "# following nodes are assigned and added manually due to their absence in the list of categories\n",
    "# _54 = '54. Дела об оспаривании ненормативных правовых актов'\n",
    "# _60 = '60. Жалоба на решение ВККС'\n",
    "# dispute_categories = []\n",
    "# for cat in dispute_categories_raw:\n",
    "#     dispute_categories.append(cat)\n",
    "#     if cat.startswith('53. Споры по делам'):\n",
    "#         dispute_categories.append(_54)\n",
    "#     elif cat.startswith('59. споры между'):\n",
    "#         dispute_categories.append(_60)"
   ]
  },
  {
   "cell_type": "code",
   "execution_count": 14,
   "id": "b13067be",
   "metadata": {},
   "outputs": [],
   "source": [
    "taxonomy_df_temp = taxonomy_utils.extract_taxonomy_df(kada_cats_new)\n",
    "root = (ts.reconstruct_tree_from_array(\n",
    "    taxonomy_df_temp.values.tolist(), use_anytree=False\n",
    "))"
   ]
  },
  {
   "cell_type": "code",
   "execution_count": 16,
   "metadata": {
    "scrolled": true
   },
   "outputs": [],
   "source": [
    "taxonomy_data = []\n",
    "for node in ts.preorder_iterator(root):\n",
    "    if node is root:\n",
    "        continue\n",
    "    taxonomy_data.append((node.ID, node.parent.ID, node.index.strip('.'), node.name, node.depth))\n",
    "taxonomy_df = pd.DataFrame(taxonomy_data, columns=['ID', 'ancestorID', 'cCode', 'Descr', 'depth'])\n",
    "taxonomy_df.to_csv('data/taxonomies/taxonomy_df.csv', index=False)"
   ]
  },
  {
   "cell_type": "markdown",
   "metadata": {},
   "source": [
    "Introducing a mapping from old ID's to new Id's"
   ]
  },
  {
   "cell_type": "code",
   "execution_count": 17,
   "metadata": {},
   "outputs": [
    {
     "name": "stdout",
     "output_type": "stream",
     "text": [
      "205 0 Нет Нет 8\n"
     ]
    }
   ],
   "source": [
    "oldID2newID = {}\n",
    "old_categs_info = pd.read_csv('temp_data/categs_info_old.csv', index_col=0)\n",
    "for _, row in old_categs_info.iterrows():\n",
    "    cCode_mask = taxonomy_df['cCode']==row['cCode']\n",
    "    if cCode_mask.sum() == 1:\n",
    "        old_id = row['ID']\n",
    "        new_id = taxonomy_df[cCode_mask]['ID'].values[0]\n",
    "        oldID2newID[int(old_id)] = int(new_id)\n",
    "    else:\n",
    "        print(*row)\n",
    "        \n",
    "with open('temp_data/oldID2newID_dict.json', 'w') as f:\n",
    "    json.dump(oldID2newID, f, )"
   ]
  },
  {
   "cell_type": "markdown",
   "id": "319f0d30",
   "metadata": {},
   "source": [
    "<span style=\"font-family:Papyrus; font-size:1.5em;\">EDA of taxonomy modified by lawyers.</span>"
   ]
  },
  {
   "cell_type": "code",
   "execution_count": 18,
   "id": "67194317",
   "metadata": {
    "scrolled": true
   },
   "outputs": [
    {
     "name": "stdout",
     "output_type": "stream",
     "text": [
      "9 --> 9.2\n",
      "14 --> 16\n",
      "21.1 --> 21.1\n",
      "21.1.1 --> 21.1.1\n",
      "22 --> 22.2\n",
      "25.1 --> 25.1.3.1\n",
      "28 --> 28\n",
      "39 --> 50\n",
      "53 --> 54.1\n",
      "59 --> 60.1\n",
      "60.5 --> 71\n",
      "72.1.2 --> 72.1.2.2\n"
     ]
    }
   ],
   "source": [
    "df_raw = pd.read_excel('data/taxonomies/Категории КАД.xlsx', engine='openpyxl')\n",
    "raw_indices = df_raw['Index (по КАД)'].dropna().tolist()\n",
    "sorted_raw_indices = dfs_sort_utils.dfs_sort(raw_indices)\n",
    "dfs_sort_utils.print_dfs_order_mistakes(sorted_raw_indices)"
   ]
  },
  {
   "cell_type": "markdown",
   "metadata": {},
   "source": [
    "<span style=\"font-family:Papyrus; font-size:1.5em;\">EDA of torrent categories</span>"
   ]
  },
  {
   "cell_type": "code",
   "execution_count": 19,
   "metadata": {},
   "outputs": [
    {
     "name": "stdout",
     "output_type": "stream",
     "text": [
      "14 --> 16\n",
      "39 --> 50\n",
      "53 --> 55\n"
     ]
    }
   ],
   "source": [
    "categs_df = pd.read_csv('temp_data/categs_info_old.csv', index_col=0)\n",
    "categs_s = dfs_sort_utils.dfs_sort(\n",
    "    categs_df['cCode'].to_list()[:-1]\n",
    ")\n",
    "\n",
    "dfs_sort_utils.print_dfs_order_mistakes(categs_s)"
   ]
  }
 ],
 "metadata": {
  "kernelspec": {
   "display_name": "Python 3 (ipykernel)",
   "language": "python",
   "name": "python3"
  },
  "language_info": {
   "codemirror_mode": {
    "name": "ipython",
    "version": 3
   },
   "file_extension": ".py",
   "mimetype": "text/x-python",
   "name": "python",
   "nbconvert_exporter": "python",
   "pygments_lexer": "ipython3",
   "version": "3.7.13"
  }
 },
 "nbformat": 4,
 "nbformat_minor": 5
}
